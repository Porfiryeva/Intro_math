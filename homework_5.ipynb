{
 "cells": [
  {
   "cell_type": "code",
   "execution_count": 93,
   "id": "b5afac9f",
   "metadata": {},
   "outputs": [],
   "source": [
    "import random\n",
    "import itertools\n",
    "import numpy as np\n",
    "\n",
    "import matplotlib.pyplot as plt"
   ]
  },
  {
   "cell_type": "markdown",
   "id": "b72633d0",
   "metadata": {},
   "source": [
    "#### 1. Напишите код, моделирующий выпадение поля в рулетке (с учетом поля зеро)."
   ]
  },
  {
   "cell_type": "code",
   "execution_count": 21,
   "id": "4374ff6b",
   "metadata": {},
   "outputs": [
    {
     "name": "stdout",
     "output_type": "stream",
     "text": [
      "19  - red\n",
      "13  - black\n",
      "35  - black\n",
      "31  - black\n",
      "29  - black\n",
      "3  - red\n",
      "30  - red\n",
      "14  - red\n",
      "21  - red\n",
      "14  - red\n",
      "10  - black\n",
      "30  - red\n",
      "13  - black\n",
      "27  - red\n",
      "16  - red\n",
      "25  - red\n",
      "31  - black\n",
      "31  - black\n",
      "18  - red\n",
      "11  - black\n",
      "20  - black\n",
      "20  - black\n",
      "35  - black\n",
      "15  - black\n",
      "23  - red\n",
      "0  - green\n"
     ]
    }
   ],
   "source": [
    "for i in range(10):\n",
    "#     a = input()\n",
    "    x =random.randint(0, 36)\n",
    "    if x == 0:\n",
    "        print(x, ' - green')\n",
    "#         break\n",
    "    elif x in (1, 3, 5, 7, 9, 12, 14, 16, 18, 19, 21, 23, 25, 27, 30, 32, 34, 36):\n",
    "        print(x, ' - red')\n",
    "    else:\n",
    "        print(x, ' - black')"
   ]
  },
  {
   "cell_type": "markdown",
   "id": "57a8f732",
   "metadata": {},
   "source": [
    "#### 2. \n",
    "    1) Напишите код, проверяющий любую из теорем сложения или умножения вероятности на примере рулетки или подбрасывания монетки.\n"
   ]
  },
  {
   "cell_type": "code",
   "execution_count": 15,
   "id": "0696b755",
   "metadata": {},
   "outputs": [
    {
     "name": "stdout",
     "output_type": "stream",
     "text": [
      "{'green': 274, 'red': 4910, 'black': 4816}\n",
      "0.509\n"
     ]
    }
   ],
   "source": [
    "# P(green) = 1/36\n",
    "# P(red) = 18/36\n",
    "# P(black) = 17/36\n",
    "    \n",
    "# P(A+B) = P(A) + P(B)\n",
    "# P(black + green) = 18/36 = 1/2   \n",
    "n_dict = {'green': 0, 'red': 0, 'black': 0}\n",
    "n = 10000\n",
    "\n",
    "for i in range(n):\n",
    "    x = random.randint(0, 36)\n",
    "    if x == 0:\n",
    "#         print(x, ' - green')\n",
    "        n_dict['green'] += 1\n",
    "    elif x in (1, 3, 5, 7, 9, 12, 14, 16, 18, 19, 21, 23, 25, 27, 30, 32, 34, 36):\n",
    "#         print(x, ' - red')\n",
    "        n_dict['red'] += 1\n",
    "    else:\n",
    "#         print(x, ' - black')\n",
    "        n_dict['black'] += 1\n",
    "     \n",
    "print(n_dict)\n",
    "print((n_dict['black'] + n_dict['green'])/n)"
   ]
  },
  {
   "cell_type": "code",
   "execution_count": 45,
   "id": "bc1247bb",
   "metadata": {},
   "outputs": [
    {
     "name": "stdout",
     "output_type": "stream",
     "text": [
      "0.01315\n"
     ]
    }
   ],
   "source": [
    "# два броска\n",
    "# P(AB) = P(A)P(B)\n",
    "# P(red*green) = 18/36 * 1/36 = 0.013(8)\n",
    "\n",
    "n_green_and_red = 0\n",
    "n = 10000\n",
    "\n",
    "for i in range(n):\n",
    "    x = np.random.randint(0, 36, 2)\n",
    "    if x[0] == 0 and x[1] in (1, 3, 5, 7, 9, 12, 14, 16, 18, 19, 21, 23, 25, 27, 30, 32, 34, 36):\n",
    "        n_green_and_red += 1\n",
    "    elif x[1] == 0 and x[0] in (1, 3, 5, 7, 9, 12, 14, 16, 18, 19, 21, 23, 25, 27, 30, 32, 34, 36):\n",
    "        n_green_and_red += 1\n",
    "    \n",
    "\n",
    "print(n_green_and_red/(2*n))"
   ]
  },
  {
   "cell_type": "markdown",
   "id": "586f3db3",
   "metadata": {},
   "source": [
    "    2) Сгенерируйте десять выборок случайных чисел х0, …, х9. и постройте гистограмму распределения случайной суммы  +х0+ …+ х 9. "
   ]
  },
  {
   "cell_type": "code",
   "execution_count": 61,
   "id": "24f5faee",
   "metadata": {},
   "outputs": [],
   "source": [
    "np.random.seed(42)\n",
    "samples = [np.random.rand(100) for i in range(10)]\n",
    "\n",
    "n = 1000\n",
    "X = [sum([random.choice(sample) for samle in samples]) for i in range(n)]\n",
    "# X = [0] * n\n",
    "# for i in range(n):\n",
    "#     for sample in samples:\n",
    "#         X[i] += random.choice(sample)"
   ]
  },
  {
   "cell_type": "code",
   "execution_count": 67,
   "id": "3e108e1e",
   "metadata": {},
   "outputs": [
    {
     "data": {
      "text/plain": [
       "Text(0.5, 1.0, 'Histogram')"
      ]
     },
     "execution_count": 67,
     "metadata": {},
     "output_type": "execute_result"
    },
    {
     "data": {
      "image/png": "[encoded data removed]",
      "text/plain": [
       "<Figure size 432x288 with 1 Axes>"
      ]
     },
     "metadata": {
      "needs_background": "light"
     },
     "output_type": "display_data"
    }
   ],
   "source": [
    "# распределение получается близкое к нормальному\n",
    "num_bins = 10\n",
    "n, bins, patches = plt.hist(X, num_bins)\n",
    "plt.xlabel('summa')\n",
    "plt.ylabel('Probability')\n",
    "plt.title('Histogram');"
   ]
  },
  {
   "cell_type": "markdown",
   "id": "53a230c6",
   "metadata": {},
   "source": [
    "#### 3.\n",
    "    1) Дополните код Монте-Карло последовательности независимых испытаний расчетом соответствующих вероятностей (через биномиальное распределение) и сравните результаты."
   ]
  },
  {
   "cell_type": "code",
   "execution_count": 90,
   "id": "e6af1755",
   "metadata": {},
   "outputs": [
    {
     "name": "stdout",
     "output_type": "stream",
     "text": [
      "число успехов: 3740,\n",
      "число испытаний: 10000,\n",
      "оценка вероятности: 0.374,\n",
      "вероятность по Бернулли: 0.375\n"
     ]
    }
   ],
   "source": [
    "# метод Монте-Карло для модели оследовательных независимых испытаний\n",
    "k, n = 0, 10000\n",
    "a = np.random.randint(0, 2, n)\n",
    "b = np.random.randint(0, 2, n)\n",
    "c = np.random.randint(0, 2, n)\n",
    "d = np.random.randint(0, 2, n)\n",
    "x = a + b + c + d\n",
    "for i in range(0, n):\n",
    "    if x[i] == 2:  # два успеха в 4 подбрасываниях (2 орла, 2 решки)\n",
    "        k = k + 1  # общее число успехов в n испытаний\n",
    "        v=6*(0.5**k)*(0.5**(n-k))\n",
    "\n",
    "# оценка вероятности\n",
    "def bernully(n, k, p):\n",
    "    p_n_k = np.math.factorial(n) / (np.math.factorial(k) * np.math.factorial(n - k)) \\\n",
    "                                                                            * p**k * (1 - p)**(n - k)\n",
    "    return p_n_k\n",
    "\n",
    "v = bernully(4, 2, 0.5)\n",
    "# print(a, b, c, d)\n",
    "#print(x)\n",
    "print(f'число успехов: {k},\\nчисло испытаний: {n},\\nоценка вероятности: {k/n},\\n'\n",
    "      f'вероятность по Бернулли: {v}')"
   ]
  },
  {
   "cell_type": "markdown",
   "id": "ea700ab1",
   "metadata": {},
   "source": [
    "    2) Повторите расчеты биномиальных коэффициентов и вероятностей k успехов в последовательности из n независимых испытаний, взяв другие значения n и k."
   ]
  },
  {
   "cell_type": "code",
   "execution_count": 91,
   "id": "0fe96e27",
   "metadata": {},
   "outputs": [
    {
     "name": "stdout",
     "output_type": "stream",
     "text": [
      "число успехов: 3734,\n",
      "число испытаний: 10000,\n",
      "оценка вероятности: 0.3734,\n",
      "вероятность по Бернулли: 0.375\n"
     ]
    }
   ],
   "source": [
    "k, n = 0, 10000\n",
    "x = a + b + c\n",
    "for i in range(0, n):\n",
    "    if x[i] == 1:  # 1 успех в 3 подбрасываниях (1 орёл, 2 решки)\n",
    "        k = k + 1  # общее число успехов в n испытаний\n",
    "\n",
    "v = bernully(3, 1, 0.5)\n",
    "print(f'число успехов: {k},\\nчисло испытаний: {n},\\nоценка вероятности: {k/n},\\n'\n",
    "      f'вероятность по Бернулли: {v}')"
   ]
  },
  {
   "cell_type": "markdown",
   "id": "5db2a50f",
   "metadata": {},
   "source": [
    "#### 4. (не обязательно, но желательно) Из урока по комбинаторике повторите расчеты, сгенерировав возможные варианты перестановок для других значений n и k\n"
   ]
  },
  {
   "cell_type": "code",
   "execution_count": 96,
   "id": "1d7559c7",
   "metadata": {},
   "outputs": [
    {
     "data": {
      "text/plain": [
       "120"
      ]
     },
     "execution_count": 96,
     "metadata": {},
     "output_type": "execute_result"
    }
   ],
   "source": [
    "# перестановки = n!\n",
    "i = 0\n",
    "for p in itertools.permutations(\"01234\"):\n",
    "#     print(''.join(p))\n",
    "    i += 1\n",
    "\n",
    "i"
   ]
  },
  {
   "cell_type": "code",
   "execution_count": 97,
   "id": "b56043fc",
   "metadata": {},
   "outputs": [
    {
     "data": {
      "text/plain": [
       "120"
      ]
     },
     "execution_count": 97,
     "metadata": {},
     "output_type": "execute_result"
    }
   ],
   "source": [
    "# размещения A(k, n) = n!/(n-k)!\n",
    "i = 0\n",
    "for p in itertools.permutations(\"012345\", 3):\n",
    "#     print(''.join(p))\n",
    "    i += 1\n",
    "\n",
    "i"
   ]
  },
  {
   "cell_type": "code",
   "execution_count": 115,
   "id": "330ae82a",
   "metadata": {},
   "outputs": [
    {
     "data": {
      "text/plain": [
       "126"
      ]
     },
     "execution_count": 115,
     "metadata": {},
     "output_type": "execute_result"
    }
   ],
   "source": [
    "# сочетания С(2, 4) = n!/k!(n-k)!\n",
    "i = 0\n",
    "for p in itertools.combinations(\"012345678\", 4):\n",
    "#     print(''.join(p))\n",
    "    i += 1\n",
    "\n",
    "i"
   ]
  },
  {
   "cell_type": "markdown",
   "id": "7e631f94",
   "metadata": {},
   "source": [
    "#### 5. (не обязательно) Дополните код расчетом коэффициента корреляции x и y по формуле\n",
    "\n",
    "$$R = \\frac{\\sum(x_i-x_m)(y_i-y_m)}{\\sqrt{\\sum(x_i-x_m)^2\\sum(y_i-y_m)^2}}$$"
   ]
  },
  {
   "cell_type": "code",
   "execution_count": 116,
   "id": "0eab3e60",
   "metadata": {},
   "outputs": [
    {
     "name": "stdout",
     "output_type": "stream",
     "text": [
      "0.6761232874427241 0.1678499454857684\n",
      "0.6761232874427248 0.16784994548576826\n"
     ]
    },
    {
     "name": "stderr",
     "output_type": "stream",
     "text": [
      "C:\\Users\\013\\AppData\\Local\\Temp/ipykernel_7708/676704793.py:16: FutureWarning: `rcond` parameter will change to the default of machine precision times ``max(M, N)`` where M and N are the input matrix dimensions.\n",
      "To use the future default and silence this warning we advise to pass `rcond=None`, to keep using the old, explicitly pass `rcond=-1`.\n",
      "  a1, b1 = np.linalg.lstsq(A, y)[0]\n"
     ]
    },
    {
     "data": {
      "image/png": "[encoded data removed]",
      "text/plain": [
       "<Figure size 432x288 with 1 Axes>"
      ]
     },
     "metadata": {
      "needs_background": "light"
     },
     "output_type": "display_data"
    }
   ],
   "source": [
    "n = 100\n",
    "r = 0.7\n",
    "x = np.random.rand(n)\n",
    "y = r*x + (1 - r)*np.random.rand(n)\n",
    "plt.plot(x, y, 'o')\n",
    "plt.xlabel('x')\n",
    "plt.ylabel('y')\n",
    "plt.grid(True)\n",
    "\n",
    "# коэф-ты для линейной зависимости\n",
    "a = (np.sum(x)*np.sum(y) - n*np.sum(x*y))/(np.sum(x)*np.sum(x) - n*np.sum(x*x))\n",
    "b = (np.sum(y) - a*np.sum(x))/n\n",
    "\n",
    "# коэф-ты линейной регрессии из numpy\n",
    "A = np.vstack([x, np.ones(len(x))]).T\n",
    "a1, b1 = np.linalg.lstsq(A, y)[0]\n",
    "print(a, b)\n",
    "print(a1, b1)\n",
    "\n",
    "plt.plot([0, 1], [b, a + b])\n",
    "plt.show()"
   ]
  },
  {
   "cell_type": "code",
   "execution_count": 130,
   "id": "917c602d",
   "metadata": {},
   "outputs": [],
   "source": [
    "def corr_coef(x, y):\n",
    "    x_m = np.mean(x)\n",
    "    y_m = np.mean(y)\n",
    "    r = np.sum((x - x_m) * (y - y_m) / np.sqrt(np.sum((x - x_m)**2) * np.sum((y - y_m)**2)))\n",
    "    return r"
   ]
  },
  {
   "cell_type": "code",
   "execution_count": 131,
   "id": "3366b889",
   "metadata": {},
   "outputs": [
    {
     "data": {
      "text/plain": [
       "0.9258191563515326"
      ]
     },
     "execution_count": 131,
     "metadata": {},
     "output_type": "execute_result"
    }
   ],
   "source": [
    "corr_coef(x, y)"
   ]
  }
 ],
 "metadata": {
  "kernelspec": {
   "display_name": "Python 3 (ipykernel)",
   "language": "python",
   "name": "python3"
  },
  "language_info": {
   "codemirror_mode": {
    "name": "ipython",
    "version": 3
   },
   "file_extension": ".py",
   "mimetype": "text/x-python",
   "name": "python",
   "nbconvert_exporter": "python",
   "pygments_lexer": "ipython3",
   "version": "3.8.8"
  }
 },
 "nbformat": 4,
 "nbformat_minor": 5
}
